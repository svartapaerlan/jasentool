{
 "cells": [
  {
   "cell_type": "markdown",
   "metadata": {},
   "source": [
    "# Mycobacterium tuberculosis validation \n",
    "\n",
    "## Step 1: Import Libraries"
   ]
  },
  {
   "cell_type": "code",
   "execution_count": null,
   "metadata": {},
   "outputs": [],
   "source": [
    "import pandas as pd\n",
    "import numpy as np\n",
    "import seaborn as sns\n",
    "import json\n",
    "import os\n",
    "import matplotlib.pyplot as plt"
   ]
  },
  {
   "cell_type": "markdown",
   "metadata": {},
   "source": [
    "## Set input & output filepaths"
   ]
  },
  {
   "cell_type": "code",
   "execution_count": null,
   "metadata": {},
   "outputs": [],
   "source": [
    "km_tb_tsv_filepath = \"/data/bnf/dev/ryan/validation/tb/tb_clinical_validation.tsv\"\n",
    "tbprofiler_result_dir = \"/fs1/results_dev/jasen/mtuberculosis/tbprofiler_mergedb/\"\n",
    "quast_result_dir = \"/fs1/results_dev/jasen/mtuberculosis/quast/\"\n",
    "paqc_result_dir = \"/fs1/results_dev/jasen/mtuberculosis/postalignqc/\"\n",
    "tb_validation_csv_fpath = \"/data/bnf/dev/ryan/validation/tb/tb_validation.csv\"\n",
    "tb_validation_accuracy_output = \"/data/bnf/dev/ryan/validation/tb/tb_validation_accuracy.csv\"\n",
    "tb_validation_amr_fig = \"/data/bnf/dev/ryan/validation/tb/tb_validation.png\"\n",
    "tb_validation_ass_output = \"/data/bnf/dev/ryan/validation/tb/tb_validation_ass.csv\"\n",
    "tb_validation_qc_output = \"/data/bnf/dev/ryan/validation/tb/tb_validation_qc.csv\"\n",
    "tb_validation_qc_fig = \"/data/bnf/dev/ryan/validation/tb/tb_validation_qc.png\"\n",
    "tb_validation_paqc_output = \"/data/bnf/dev/ryan/validation/tb/tb_validation_paqc.csv\"\n",
    "tb_validation_paqc_fig = \"/data/bnf/dev/ryan/validation/tb/tb_validation_paqc.png\""
   ]
  },
  {
   "cell_type": "markdown",
   "metadata": {},
   "source": [
    "## Preprocess data"
   ]
  },
  {
   "cell_type": "code",
   "execution_count": null,
   "metadata": {},
   "outputs": [],
   "source": [
    "km_tb_df = pd.read_csv(km_tb_tsv_filepath, delimiter='\\t')\n",
    "\n",
    "# Column patterns to be removed\n",
    "patterns = [\"tb-profiler\", \"Mykrobe\", \"NGS\"]\n",
    "\n",
    "# Filter out columns containing any of the patterns\n",
    "km_tb_df = km_tb_df.drop(columns=[col for col in km_tb_df.columns if any(pattern in col for pattern in patterns)])\n",
    "\n",
    "# Replace \"ej testad\" with NaN\n",
    "km_tb_df.replace([\"eh\"], np.nan, inplace=True)\n",
    "\n",
    "# print(km_tb_df.head())\n",
    "# print(km_tb_df.columns.tolist())"
   ]
  },
  {
   "cell_type": "markdown",
   "metadata": {},
   "source": [
    "## Define function"
   ]
  },
  {
   "cell_type": "markdown",
   "metadata": {},
   "source": [
    "### Function to get AMR information"
   ]
  },
  {
   "cell_type": "code",
   "execution_count": null,
   "metadata": {},
   "outputs": [],
   "source": [
    "def get_sample_pred_array(analysis_result_dir, sample_id, suffix):\n",
    "    pred_filepath = os.path.join(analysis_result_dir, sample_id + suffix)\n",
    "    if os.path.exists(pred_filepath):\n",
    "        with open(pred_filepath, \"r\") as fin:\n",
    "            pred_dict = json.load(fin)\n",
    "            res_drugs_dict = {}\n",
    "            for var in pred_dict[\"dr_variants\"]:\n",
    "                for annot in var[\"annotation\"]:\n",
    "                    if annot[\"confidence\"] == \"Assoc w R\":\n",
    "                        res_drugs_dict[annot[\"drug\"]] = \"R\"\n",
    "                    elif annot[\"confidence\"] == \"Assoc w R - Interim\":\n",
    "                        if annot[\"drug\"] not in res_drugs_dict:\n",
    "                            res_drugs_dict[annot[\"drug\"]] = \"I\"\n",
    "\n",
    "            sample_info = {\n",
    "                \"Labnummer\": sample_id,\n",
    "                \"main_lineage\": pred_dict[\"main_lineage\"],\n",
    "            }\n",
    "\n",
    "            return {**sample_info, **res_drugs_dict}\n",
    "    else:\n",
    "        # print(f\"{sample_id} does not exist in {analysis_result_dir}\")\n",
    "        return None\n"
   ]
  },
  {
   "cell_type": "markdown",
   "metadata": {},
   "source": [
    "### Function to get QC information "
   ]
  },
  {
   "cell_type": "code",
   "execution_count": null,
   "metadata": {},
   "outputs": [],
   "source": [
    "def get_sample_qc_array(analysis_result_dir, sample_id, suffix, qc_params):\n",
    "    qc_filepath = os.path.join(analysis_result_dir, sample_id + suffix)\n",
    "    if os.path.exists(qc_filepath):\n",
    "        tb_qc_df = pd.read_csv(qc_filepath, delimiter='\\t')\n",
    "        tb_qc_df = tb_qc_df[qc_params]\n",
    "        qc_array = json.loads(tb_qc_df.to_json(orient=\"records\"))[0]\n",
    "        sample_info = {\n",
    "            \"Labnummer\": sample_id,\n",
    "        }\n",
    "        return {**sample_info, **qc_array}\n",
    "    else:\n",
    "        # print(f\"{sample_id} does not exist in {analysis_result_dir}\")\n",
    "        return None"
   ]
  },
  {
   "cell_type": "markdown",
   "metadata": {},
   "source": [
    "### Function to get postalignqc information"
   ]
  },
  {
   "cell_type": "code",
   "execution_count": null,
   "metadata": {},
   "outputs": [],
   "source": [
    "def get_sample_paqc_array(analysis_result_dir, sample_id, suffix, qc_params):\n",
    "    paqc_filepath = os.path.join(analysis_result_dir, sample_id + suffix)\n",
    "    if os.path.exists(paqc_filepath):\n",
    "        with open(paqc_filepath, \"r\") as fin:\n",
    "            qc_array = json.load(fin)[\"pct_above_x\"]\n",
    "            sample_info = {\n",
    "                \"Labnummer\": sample_id,\n",
    "            }\n",
    "            return {**sample_info, **qc_array}\n",
    "    else:\n",
    "        # print(f\"{sample_id} does not exist in {analysis_result_dir}\")\n",
    "        return None"
   ]
  },
  {
   "cell_type": "markdown",
   "metadata": {},
   "source": [
    "## Add amr columns to dataframe"
   ]
  },
  {
   "cell_type": "code",
   "execution_count": null,
   "metadata": {},
   "outputs": [],
   "source": [
    "amr_drugs = ['isoniazid', 'rifampicin', 'ethambutol', 'amikacin', 'ofloxacin',\n",
    "             'pyrazinamide', 'linezolid', 'streptomycin', 'kanamycin', 'moxifloxacin',\n",
    "             'levofloxacin', 'rifabutin', 'ethionamide', 'capreomycin', 'cycloserine',\n",
    "             'PAS', 'clofazimine', 'bedaquiline', 'delamanid', 'main_lineage']\n",
    "# Add each drug as an empty column\n",
    "for drug in amr_drugs:\n",
    "    km_tb_df[drug] = np.nan"
   ]
  },
  {
   "cell_type": "markdown",
   "metadata": {},
   "source": [
    "## Add QC columns to dataframe"
   ]
  },
  {
   "cell_type": "code",
   "execution_count": null,
   "metadata": {},
   "outputs": [],
   "source": [
    "qc_params = ['# contigs', 'Largest contig', 'Total length', 'N50']\n",
    "# Add each qc param as an empty column\n",
    "for qc_param in qc_params:\n",
    "    km_tb_df[qc_param] = np.nan"
   ]
  },
  {
   "cell_type": "markdown",
   "metadata": {},
   "source": [
    "## Add postalignqc to dataframe"
   ]
  },
  {
   "cell_type": "code",
   "execution_count": null,
   "metadata": {},
   "outputs": [],
   "source": [
    "paqc_params = [\"1\", \"10\", \"30\", \"100\", \"250\", \"500\"]\n",
    "# Add each qc param as an empty column\n",
    "for paqc_param in paqc_params:\n",
    "    km_tb_df[paqc_param] = np.nan"
   ]
  },
  {
   "cell_type": "markdown",
   "metadata": {},
   "source": [
    "## Loop through sample ids' JASEN output and add columns"
   ]
  },
  {
   "cell_type": "code",
   "execution_count": null,
   "metadata": {},
   "outputs": [],
   "source": [
    "for sample_id in km_tb_df['Labnummer']:\n",
    "    sample_pred_array = get_sample_pred_array(tbprofiler_result_dir, sample_id, \"_tbprofiler.json\")\n",
    "    sample_qc_array = get_sample_qc_array(quast_result_dir, sample_id, \"_quast.tsv\", qc_params)\n",
    "    sample_paqc_array = get_sample_paqc_array(paqc_result_dir, sample_id, \"_bwa.qc\", paqc_params)\n",
    "    if sample_pred_array:\n",
    "        # Identify the row index that matches the Labnummer\n",
    "        row_index = km_tb_df[km_tb_df['Labnummer'] == sample_pred_array['Labnummer']].index\n",
    "        for key, value in sample_pred_array.items():\n",
    "            if key != 'Labnummer':\n",
    "                km_tb_df[key] = km_tb_df[key].astype(object)\n",
    "                km_tb_df.loc[row_index, key] = value\n",
    "    if sample_qc_array:\n",
    "        row_index = km_tb_df[km_tb_df['Labnummer'] == sample_qc_array['Labnummer']].index\n",
    "        for key, value in sample_qc_array.items():\n",
    "            if key != 'Labnummer':\n",
    "                # km_tb_df[key] = km_tb_df[key].astype(object)\n",
    "                km_tb_df.loc[row_index, key] = value\n",
    "    if sample_paqc_array:\n",
    "        row_index = km_tb_df[km_tb_df['Labnummer'] == sample_paqc_array['Labnummer']].index\n",
    "        for key, value in sample_paqc_array.items():\n",
    "            if key != 'Labnummer':\n",
    "                # km_tb_df[key] = km_tb_df[key].astype(object)\n",
    "                km_tb_df.loc[row_index, key] = value\n",
    "km_tb_df.to_csv(tb_validation_csv_fpath, index=False)\n",
    "# print(km_tb_df.head())"
   ]
  },
  {
   "cell_type": "markdown",
   "metadata": {},
   "source": [
    "## Set column pairs"
   ]
  },
  {
   "cell_type": "code",
   "execution_count": null,
   "metadata": {},
   "outputs": [],
   "source": [
    "column_pairs = [\n",
    "    ('Isoniazid 0.1', 'isoniazid'),\n",
    "    ('Isoniazid 0.4', 'isoniazid'),\n",
    "    ('Genotypisk Rifampicin', 'rifampicin'),\n",
    "    ('Rifampicin 1.0', 'rifampicin'),\n",
    "    ('Etambutol 2.5/5.0', 'ethambutol'),\n",
    "    ('Amikacin 1.0', 'amikacin'),\n",
    "    ('Ofloxacin 2.0', 'ofloxacin'),\n",
    "    ('Pyrazinamid 100', 'pyrazinamide'),\n",
    "    ('Linezolid', 'linezolid'),\n",
    "    ('Streptomycin', 'streptomycin'),\n",
    "    ('Kanamycin', 'kanamycin'),\n",
    "    ('Moxifloxacin', 'moxifloxacin'),\n",
    "    ('Levofloxacin', 'levofloxacin'),\n",
    "    ('Rifabutin', 'rifabutin'),\n",
    "    ('Ethionamid', 'ethionamide'),\n",
    "    ('Capreomycin', 'capreomycin'),\n",
    "    ('Cykloserin', 'cycloserine'),\n",
    "    ('PAS', 'PAS'),\n",
    "    ('Clofazimine', 'clofazimine'),\n",
    "    ('Bedakilin', 'bedaquiline'),\n",
    "    ('Delamanid', 'delamanid')\n",
    "]\n"
   ]
  },
  {
   "cell_type": "markdown",
   "metadata": {},
   "source": [
    "## Plot AMR calling accuracy"
   ]
  },
  {
   "cell_type": "code",
   "execution_count": null,
   "metadata": {},
   "outputs": [],
   "source": [
    "# Initialize a DataFrame to hold the results\n",
    "results = pd.DataFrame(columns=['True positives', 'True negatives', 'False positives', 'False negatives', 'Not tested', 'Unknown'])\n",
    "\n",
    "ass_loa = []\n",
    "n_counts = []\n",
    "for col1, col2 in column_pairs:\n",
    "    true_positives = ((km_tb_df[col1] == km_tb_df[col2]) | (km_tb_df[col1] == \"R\") & (km_tb_df[col2] == \"I\")).sum()\n",
    "    true_negatives = ((km_tb_df[col1] == \"S\") & (km_tb_df[col2].isna())).sum()\n",
    "    false_positives = ((km_tb_df[col1] == \"S\") & (~km_tb_df[col2].isna())).sum()\n",
    "    false_negatives = ((km_tb_df[col1] == \"R\") & (km_tb_df[col2].isna())).sum()\n",
    "    not_tested = (km_tb_df[col1].isin([\"ej testad\", \"Ej testad\", np.nan])).sum()\n",
    "    unknown = (~km_tb_df[col1].isin([\"ej testad\", \"Ej testad\", \"R\", \"S\", np.nan])).sum()\n",
    "    total_count = len(km_tb_df)\n",
    "    n_counts.append(total_count)\n",
    "    if true_positives + true_negatives + false_positives + false_negatives == 0:\n",
    "        accuracy = 0.0\n",
    "    else:\n",
    "        accuracy = (true_positives+true_negatives)/(true_positives+true_negatives+false_positives+false_negatives)\n",
    "    if true_positives + false_negatives == 0:\n",
    "        sensitivity = 0.0\n",
    "    else:\n",
    "        sensitivity = true_positives / (true_positives + false_negatives)\n",
    "    if true_negatives + false_positives == 0:\n",
    "        specificity = 0.0\n",
    "    else:\n",
    "        specificity = true_negatives/(true_negatives+false_positives)\n",
    "    ass_loa.append({\n",
    "        \"comparison\": f\"{col1} vs {col2}\",\n",
    "        \"accuracy\": accuracy,\n",
    "        \"sensitivity\": sensitivity,\n",
    "        \"specificity\": specificity\n",
    "    })\n",
    "    results.loc[f'{col1} vs {col2}'] = [\n",
    "        true_positives / total_count * 100,\n",
    "        true_negatives / total_count * 100,\n",
    "        false_positives / total_count * 100,\n",
    "        false_negatives / total_count * 100,\n",
    "        not_tested / total_count * 100,\n",
    "        unknown / total_count * 100\n",
    "    ]\n",
    "\n",
    "# Write out csv\n",
    "results.to_csv(tb_validation_accuracy_output, index=True)\n",
    "\n",
    "# Plotting\n",
    "fig, ax = plt.subplots(figsize=(6, 8))\n",
    "results.plot(kind='barh', stacked=True, ax=ax, color=['green', 'gold', 'orange', 'red', 'darkblue', 'lightblue'])\n",
    "\n",
    "# Customizing plot\n",
    "ax.set_xlabel('Percentage (%)')\n",
    "ax.set_title('AMR calling accuracy')\n",
    "ax.legend(['True positives', 'True negatives', 'False positives', 'False negatives', 'Not tested', 'Unknown'], bbox_to_anchor=(1.05, 1), loc='upper left')\n",
    "ax.set_xlim(0, 110)\n",
    "for i in range(len(results)):\n",
    "    ax.text(100, i, f'n={n_counts[i]}', ha='left', va='center', fontsize=10, color='black')\n",
    "plt.savefig(tb_validation_amr_fig, dpi=600, bbox_inches='tight')\n",
    "plt.show()\n",
    "\n",
    "ass_df = pd.DataFrame(ass_loa)\n",
    "ass_df.to_csv(tb_validation_ass_output, index=False, header=False)"
   ]
  },
  {
   "cell_type": "markdown",
   "metadata": {},
   "source": [
    "## Plot QC scores"
   ]
  },
  {
   "cell_type": "code",
   "execution_count": null,
   "metadata": {},
   "outputs": [],
   "source": [
    "# Initialize a DataFrame to hold the results\n",
    "qc_results = km_tb_df[['Labnummer'] + qc_params]\n",
    "\n",
    "# Plot box plots for each of the qc_params\n",
    "# Create a 2x2 grid for the subplots\n",
    "fig, axs = plt.subplots(2, 2, figsize=(6, 8))\n",
    "\n",
    "# Flatten the axes array for easy iteration\n",
    "axs = axs.flatten()\n",
    "\n",
    "# Plot each boxplot in a separate subplot\n",
    "for i, qc_param in enumerate(qc_params):\n",
    "    sns.boxplot(y=qc_results[qc_param], ax=axs[i])\n",
    "    axs[i].set_title(qc_param)\n",
    "    axs[i].set_xlabel('Value')\n",
    "\n",
    "\n",
    "# Label subplots A, B, C, D\n",
    "labels = ['A', 'B', 'C', 'D']\n",
    "for ax, label in zip(axs, labels):\n",
    "    ax.text(-0.1, 1.05, label, transform=ax.transAxes,\n",
    "            fontsize=16, fontweight='bold', va='top', ha='right')\n",
    "\n",
    "plt.tight_layout()\n",
    "plt.savefig(tb_validation_qc_fig, dpi=600, bbox_inches='tight')\n",
    "plt.show()\n",
    "\n",
    "qc_results.to_csv(tb_validation_qc_output, index=False)"
   ]
  },
  {
   "cell_type": "markdown",
   "metadata": {},
   "source": [
    "## Plot read depth"
   ]
  },
  {
   "cell_type": "code",
   "execution_count": null,
   "metadata": {},
   "outputs": [],
   "source": [
    "# Initialize a DataFrame to hold the results\n",
    "paqc_results = km_tb_df[['Labnummer'] + paqc_params]\n",
    "# Plot box plots for each of the paqc_params\n",
    "# Create a 2x2 grid for the subplots\n",
    "fig, axs = plt.subplots(3, 2, figsize=(10, 8))\n",
    "\n",
    "# Flatten the axes array for easy iteration\n",
    "axs = axs.flatten()\n",
    "\n",
    "# Plot each boxplot in a separate subplot\n",
    "for i, paqc_param in enumerate(paqc_params):\n",
    "    sns.boxplot(y=paqc_results[paqc_param], ax=axs[i])\n",
    "    axs[i].set_title(f\"Coverage depth above {paqc_param}X\")\n",
    "    axs[i].set_xlabel(paqc_param)\n",
    "    axs[i].set_ylim(0, 105)\n",
    "\n",
    "\n",
    "# Label subplots A, B, C, D\n",
    "labels = ['A', 'B', 'C', 'D', 'E', 'F']\n",
    "for ax, label in zip(axs, labels):\n",
    "    ax.text(-0.1, 1.05, label, transform=ax.transAxes,\n",
    "            fontsize=16, fontweight='bold', va='top', ha='right')\n",
    "\n",
    "plt.tight_layout()\n",
    "plt.savefig(tb_validation_paqc_fig, dpi=600, bbox_inches='tight')\n",
    "plt.show()\n",
    "\n",
    "paqc_results.to_csv(tb_validation_paqc_output, index=False)"
   ]
  },
  {
   "cell_type": "markdown",
   "metadata": {},
   "source": [
    "## Inspect two columns"
   ]
  },
  {
   "cell_type": "code",
   "execution_count": null,
   "metadata": {},
   "outputs": [],
   "source": [
    "# columns_to_print = ['Linezolid', 'linezolid', 'Labnummer']\n",
    "# print(km_tb_df[columns_to_print])\n",
    "# km_tb_df[columns_to_print].to_csv(f\"./tb_validation_{columns_to_print[1]}.csv\", index=False)\n"
   ]
  }
 ],
 "metadata": {
  "kernelspec": {
   "display_name": "Python 3 (ipykernel)",
   "language": "python",
   "name": "python3"
  },
  "language_info": {
   "codemirror_mode": {
    "name": "ipython",
    "version": 3
   },
   "file_extension": ".py",
   "mimetype": "text/x-python",
   "name": "python",
   "nbconvert_exporter": "python",
   "pygments_lexer": "ipython3",
   "version": "3.12.2"
  }
 },
 "nbformat": 4,
 "nbformat_minor": 4
}
